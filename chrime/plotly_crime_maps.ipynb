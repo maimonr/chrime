{
 "cells": [
  {
   "cell_type": "raw",
   "id": "77287b4b-e4c4-4beb-9e80-ff5ca3e2f1f3",
   "metadata": {},
   "source": [
    "title: Mapping Chicago Crime\n",
    "output:\n",
    "  html:\n",
    "    include_plotlyjs: false"
   ]
  },
  {
   "cell_type": "code",
   "execution_count": null,
   "id": "ecfa2c67-23aa-4075-9c5e-0a768e23cd30",
   "metadata": {},
   "outputs": [],
   "source": [
    "%load_ext pretty_jupyter"
   ]
  },
  {
   "cell_type": "code",
   "execution_count": null,
   "id": "dd65a6a5-8ef5-4a5a-bc1e-486ec5d4ca32",
   "metadata": {},
   "outputs": [],
   "source": [
    "import os,re\n",
    "import numpy as np\n",
    "from scipy.interpolate import interp1d\n",
    "import pandas as pd\n",
    "from itertools import product\n",
    "from datetime import datetime\n",
    "\n",
    "import matplotlib.pyplot as plt\n",
    "from IPython.display import display, Markdown\n",
    "\n",
    "import seaborn as sns\n",
    "from sklearn.linear_model import LinearRegression\n",
    "\n",
    "import geopandas\n",
    "import pyproj\n",
    "from adjustText import adjust_text\n",
    "\n",
    "import plot_crime as pc\n",
    "import plot_crime_plotly as pcp\n",
    "import plotly.express as px\n",
    "\n",
    "\n",
    "%load_ext autoreload\n",
    "%autoreload 2"
   ]
  },
  {
   "cell_type": "code",
   "execution_count": null,
   "id": "9b0be7e7-3814-4dc4-b6e3-5d1aabcab53f",
   "metadata": {},
   "outputs": [],
   "source": [
    "include_plotlyjs = 'cdn'\n",
    "full_html = False\n",
    "renderer=\"notebook_connected\""
   ]
  },
  {
   "cell_type": "code",
   "execution_count": null,
   "id": "dbcc9cff-28b9-404a-9316-6a0611c2465a",
   "metadata": {},
   "outputs": [],
   "source": [
    "base_dir = 'C:\\\\Users\\\\BatLab\\\\Documents\\\\chicago_crime'\n",
    "crime_by_year_fname = os.path.join(base_dir,'crime_by_year_dfs.pkl')\n",
    "crime_by_year_dfs = pd.read_pickle(crime_by_year_fname)\n",
    "\n",
    "return_raw = False\n",
    "community_areas, demographics, nibrs_codes, iucr_codes, population, _ = pc.init_crime_data(return_raw)\n",
    "\n",
    "cca_regions = community_areas.Region.unique()"
   ]
  },
  {
   "cell_type": "code",
   "execution_count": null,
   "id": "b037c8b5-e225-42d5-b8be-22bb728fbadc",
   "metadata": {},
   "outputs": [],
   "source": [
    "crime_type = 'FBI_type'\n",
    "place_type = 'Community Area'\n",
    "select_crimes = None\n",
    "select_places = community_areas.index\n",
    "select_regions = [r for r in pcp.ordered_regions if r is not None]"
   ]
  },
  {
   "cell_type": "code",
   "execution_count": null,
   "id": "63a2c691-10bc-4fa1-866d-71269d8d9ff3",
   "metadata": {},
   "outputs": [],
   "source": [
    "plot_data = pcp.melt_crime_df(\n",
    "    crime_by_year_dfs,\n",
    "    crime_type,\n",
    "    place_type,\n",
    "    select_crimes=select_crimes,\n",
    "    population=population,\n",
    "    select_places=select_places,\n",
    "    community_areas=community_areas\n",
    ")\n",
    "\n",
    "map_df = pcp.get_map_df(\n",
    "    tol=2.5e-5\n",
    ")"
   ]
  },
  {
   "cell_type": "code",
   "execution_count": null,
   "id": "4a83bf4d-dc8f-40ca-8df0-10599e9e3737",
   "metadata": {},
   "outputs": [],
   "source": [
    "# center = df_chor_map.dissolve().representative_point()\n",
    "# center = {k:getattr(center,v).values[0] for k,v in zip(['lat','lon'],['y','x'])}\n",
    "\n",
    "# fig = px.choropleth_map(\n",
    "#     df_chor_map.round(decimals=2),\n",
    "#     geojson=df_chor_map.geometry,\n",
    "#     locations=df_chor_map.index,\n",
    "#     color=\"crime_rate\",\n",
    "#     center=center,\n",
    "#     # zoom=8.5,\n",
    "#     animation_frame='Year',\n",
    "#     # projection='mercator'\n",
    "# )\n",
    "# fig.update_geos(fitbounds=\"locations\", visible=False)\n",
    "# fig.update_layout(height=500,width=500)\n",
    "# # fig.update_layout(margin={\"r\":0,\"t\":0,\"l\":0,\"b\":0})\n",
    "# fig.show()"
   ]
  },
  {
   "cell_type": "code",
   "execution_count": null,
   "id": "73c01fa0-d9f9-400b-8a56-cda9d559b775",
   "metadata": {},
   "outputs": [],
   "source": [
    "%%jmd\n",
    "## Mapping Crimes by Neighborhood\n",
    "[//]: # (-.- .tabset .tabset-pills)\n"
   ]
  },
  {
   "cell_type": "code",
   "execution_count": null,
   "id": "d3a68e36-9df6-48a1-8d39-575b8ab6284d",
   "metadata": {
    "tags": []
   },
   "outputs": [],
   "source": [
    "\n",
    "for crime_type in pcp.used_fbi_types:\n",
    "    display(Markdown(f\"### {crime_type.replace('_',' ').title()}\"))\n",
    "    \n",
    "    fig = map_crime_by_place(\n",
    "        map_df,\n",
    "        plot_data,\n",
    "        place_type,\n",
    "        crime_type\n",
    "    )\n",
    "    \n",
    "    fig.show(renderer=renderer)"
   ]
  }
 ],
 "metadata": {
  "kernelspec": {
   "display_name": "chicago_crime",
   "language": "python",
   "name": "chicago_crime"
  },
  "language_info": {
   "codemirror_mode": {
    "name": "ipython",
    "version": 3
   },
   "file_extension": ".py",
   "mimetype": "text/x-python",
   "name": "python",
   "nbconvert_exporter": "python",
   "pygments_lexer": "ipython3",
   "version": "3.10.12"
  },
  "pj_metadata": {
   "output": {
    "html": {
     "include_plotlyjs": false
    }
   }
  }
 },
 "nbformat": 4,
 "nbformat_minor": 5
}
