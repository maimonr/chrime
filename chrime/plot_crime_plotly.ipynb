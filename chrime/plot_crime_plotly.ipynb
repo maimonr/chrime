{
 "cells": [
  {
   "cell_type": "raw",
   "id": "839a0b73-4199-4f84-a585-e07dd19e2f3b",
   "metadata": {},
   "source": [
    "title: Chicago Crime\n",
    "output:\n",
    "  html:\n",
    "    include_plotlyjs: false"
   ]
  },
  {
   "cell_type": "code",
   "execution_count": 1,
   "id": "c5267744-624e-4b63-9218-5bed49f2326d",
   "metadata": {},
   "outputs": [],
   "source": [
    "%load_ext pretty_jupyter"
   ]
  },
  {
   "cell_type": "code",
   "execution_count": 2,
   "id": "737093b5-a0bc-42be-9821-235900ece5ef",
   "metadata": {},
   "outputs": [],
   "source": [
    "import os,re\n",
    "import numpy as np\n",
    "from scipy.interpolate import interp1d\n",
    "import pandas as pd\n",
    "from itertools import product\n",
    "from datetime import datetime\n",
    "\n",
    "import matplotlib.pyplot as plt\n",
    "from pretty_jupyter.helpers import matplotlib_fig_to_html, matplotlib_fig_to_markdown\n",
    "from IPython.display import display, Markdown\n",
    "\n",
    "import seaborn as sns\n",
    "from sklearn.linear_model import LinearRegression\n",
    "\n",
    "import geopandas\n",
    "import plotly.express as px\n",
    "\n",
    "import plot_crime as pc\n",
    "import plot_crime_plotly as pcp\n",
    "\n",
    "%load_ext autoreload\n",
    "%autoreload 2\n",
    "# %matplotlib inline\n",
    "# %load_ext genai"
   ]
  },
  {
   "cell_type": "code",
   "execution_count": 3,
   "id": "cccb62f4-b6f0-4788-9ca5-72b963926c5c",
   "metadata": {},
   "outputs": [],
   "source": [
    "import plotly.io as pio\n",
    "# pio.renderers.default = \"notebook_connected\"\n",
    "# pio.renderers\n",
    "# pio.renderers.default = \"browser\""
   ]
  },
  {
   "cell_type": "code",
   "execution_count": 4,
   "id": "5ff46cb6-9237-4d64-8dee-dc8ee121948a",
   "metadata": {},
   "outputs": [],
   "source": [
    "include_plotlyjs = 'cdn'\n",
    "full_html = False\n",
    "renderer=None#\"notebook_connected\""
   ]
  },
  {
   "cell_type": "code",
   "execution_count": 5,
   "id": "4f2e6645-bb6f-47f9-8f42-c640b6821907",
   "metadata": {},
   "outputs": [],
   "source": [
    "def get_region_df(plot_data,region):\n",
    "    select_places = community_areas.query('Region == @region')['Name'].values\n",
    "    return plot_data.query('`Community Area` in @select_places')"
   ]
  },
  {
   "cell_type": "code",
   "execution_count": 6,
   "id": "d056411f-3843-457d-addf-7d617de0b1eb",
   "metadata": {},
   "outputs": [],
   "source": [
    "base_dir = 'C:\\\\Users\\\\BatLab\\\\Documents\\\\chicago_crime'\n",
    "crime_by_year_fname = os.path.join(base_dir,'crime_by_year_dfs.pkl')\n",
    "crime_by_year_dfs = pd.read_pickle(crime_by_year_fname)\n",
    "\n",
    "return_raw = False\n",
    "community_areas, demographics, nibrs_codes, iucr_codes, population, _ = pc.init_crime_data(return_raw)\n",
    "\n",
    "cca_regions = community_areas.Region.unique()"
   ]
  },
  {
   "cell_type": "markdown",
   "id": "62390198-f836-4493-bd79-d3b5274a9f95",
   "metadata": {},
   "source": [
    "# Crime rates by year\n",
    "\n",
    "All of the following plots show crime rates by year within one of the 9 regions or one of the 77 neighborhoods of Chicago.\n",
    "\n",
    "Crime type is categorized using FBI standardized types.\n",
    "\n",
    "**Plots are interactive**\n",
    "\n",
    "- Hover over lines to get more details (*including raw totals*). \n",
    "- Single click on a legend entry to remove that entry from plots\n",
    "- Double click on a legend entry to remove all other entries\n",
    "- Pan, zoom, and reset axes using button on top right of figure"
   ]
  },
  {
   "cell_type": "code",
   "execution_count": null,
   "id": "445cf776-3c4e-4d9d-91c2-f2268f700ebd",
   "metadata": {},
   "outputs": [],
   "source": [
    "crime_type = 'FBI_type'\n",
    "place_type = 'region'\n",
    "select_crimes = None\n",
    "select_places = cca_regions"
   ]
  },
  {
   "cell_type": "markdown",
   "id": "eafba733-f25a-4a5c-a970-91cffcf9c5c8",
   "metadata": {},
   "source": [
    "## Plotting each crime type per region\n",
    "\n",
    "The following plot show the yearly **per-capita** crime rate within one of 9 regions of Chicago."
   ]
  },
  {
   "cell_type": "code",
   "execution_count": null,
   "id": "7610b08f-02f0-4135-bcec-572784fb3fd2",
   "metadata": {},
   "outputs": [],
   "source": [
    "plot_data = pcp.melt_crime_df(\n",
    "    crime_by_year_dfs,\n",
    "    crime_type,\n",
    "    place_type,\n",
    "    select_crimes=select_crimes,\n",
    "    population=population,\n",
    "    select_places=select_places,\n",
    "    community_areas=community_areas\n",
    ")\n",
    "\n",
    "fig = pcp.plot_crime_by_type_and_place(\n",
    "    plot_data,\n",
    "    crime_type,\n",
    "    place_type\n",
    ")\n",
    "fig.show(renderer=renderer)"
   ]
  },
  {
   "cell_type": "code",
   "execution_count": null,
   "id": "019128e4-d927-449c-9b46-7f9402f7a970",
   "metadata": {},
   "outputs": [],
   "source": [
    "%%jmd\n",
    "## Plotting Crimes within Region by Neighborhood\n",
    "[//]: # (-.- .tabset .tabset-pills)\n",
    "\n",
    "In this section, use the tabs at the top to select which **region** to display. \n",
    "\n",
    "Within those regions, per-capita crime rates are plotted separately by the individual **neighborhoods** making up that region.\n"
   ]
  },
  {
   "cell_type": "code",
   "execution_count": null,
   "id": "45ac76a0-f6fb-4e6f-b6bb-d55a3ba9050c",
   "metadata": {},
   "outputs": [],
   "source": [
    "crime_type = 'FBI_type'\n",
    "place_type = 'Community Area'\n",
    "select_crimes = None\n",
    "select_places = community_areas.index\n",
    "select_regions = [r for r in pcp.ordered_regions if r is not None]"
   ]
  },
  {
   "cell_type": "code",
   "execution_count": null,
   "id": "6bde6d9a-89f2-491f-905a-1bbaf9f379c9",
   "metadata": {},
   "outputs": [],
   "source": [
    "plot_data = pcp.melt_crime_df(\n",
    "    crime_by_year_dfs,\n",
    "    crime_type,\n",
    "    place_type,\n",
    "    select_crimes=select_crimes,\n",
    "    population=population,\n",
    "    select_places=select_places,\n",
    "    community_areas=community_areas\n",
    ")\n",
    "\n",
    "for region in select_regions:\n",
    "\n",
    "    display(Markdown(f\"### {region.title()}\"))\n",
    "    plot_data_reg = get_region_df(plot_data,region) \n",
    "    fig = pcp.plot_crime_by_type_and_place(\n",
    "            plot_data_reg,\n",
    "            crime_type,\n",
    "            place_type\n",
    "        )\n",
    "    \n",
    "    fig.show(renderer=renderer)"
   ]
  },
  {
   "cell_type": "code",
   "execution_count": null,
   "id": "55391dc1-ab58-46e9-8b52-4fabe5001c6d",
   "metadata": {},
   "outputs": [],
   "source": [
    "%%jmd\n",
    "## Plotting Select Crimes by Region\n",
    "[//]: # (-.- .tabset .tabset-pills)\n",
    "    \n",
    "- In this section, use the tabs at the top to select which grouping of crime types to display.\n",
    "\n",
    "- Groupings are arbitrarily assigned. \n",
    "- \"Society\" is a grab-all grouping.\n",
    "\n",
    "- Regions are arranged semi-geographically.\n",
    "\n",
    "Instead of the per-capita rate, these plots show the **fraction of the highest recorded crime count** for each given crime type and region:\n",
    "\n",
    "- For instance, on the Far North Side, homicides reached their maximum in 2022. So each data point shows how many homicides were commited in the Far North Side that year as a fraction of the number that occurred in 2022. \n",
    "\n",
    "- This scaling allows trends to be compared when total counts/rates are dissimilar between crime types.\n"
   ]
  },
  {
   "cell_type": "code",
   "execution_count": null,
   "id": "abe4a968-8ff6-4ee8-9961-098973f9b8c2",
   "metadata": {},
   "outputs": [],
   "source": [
    "crime_type = 'FBI_type'\n",
    "place_type = 'region'\n",
    "select_places = None\n",
    "select_crimes = None"
   ]
  },
  {
   "cell_type": "code",
   "execution_count": null,
   "id": "33c01aa7-d53d-4fec-b355-9c870adbfb8a",
   "metadata": {},
   "outputs": [],
   "source": [
    "\n",
    "for select_crime_type in pcp.select_crime_lists:\n",
    "    display(Markdown(f\"### {select_crime_type.replace('_',' ').title()}\"))\n",
    "\n",
    "    plot_data = pcp.melt_crime_df(\n",
    "        crime_by_year_dfs,\n",
    "        crime_type,\n",
    "        place_type,\n",
    "        select_crimes=select_crime_type\n",
    "    )\n",
    "    fig = pcp.plot_regional_crime(\n",
    "            plot_data,\n",
    "            crime_type,\n",
    "            select_crimes=select_crime_type\n",
    "    )\n",
    "\n",
    "    fig.show(renderer=renderer)"
   ]
  },
  {
   "cell_type": "markdown",
   "id": "6a1ea074-2e2c-4d3d-b21b-807fc46ba079",
   "metadata": {},
   "source": [
    "# Mapping crime rates by year\n",
    "\n",
    "This section geographically maps per-capita crime rates by year using the 77 neighborhoods of Chicago.\n",
    "\n",
    "Crime type is categorized using FBI standardized types.\n",
    "\n",
    "**Plots are interactive**\n",
    "\n",
    "- Hover over lines to get more details (*including raw totals*). \n",
    "- Pan, zoom, and reset axes using button on top right of figure"
   ]
  },
  {
   "cell_type": "code",
   "execution_count": 7,
   "id": "4f9c9db9-9476-459a-91b4-be2051424526",
   "metadata": {},
   "outputs": [
    {
     "data": {
      "text/markdown": [
       "## Mapping Crimes by Neighborhood\n",
       "<span class='pj-token' style='display: none;'>.tabset|O_O|.tabset-pills</span>\n",
       "    \n",
       "- In this section, use the tabs at the top to select which type of crime to display."
      ],
      "text/plain": [
       "<IPython.core.display.Markdown object>"
      ]
     },
     "execution_count": 7,
     "metadata": {},
     "output_type": "execute_result"
    }
   ],
   "source": [
    "%%jmd\n",
    "## Mapping Crimes by Neighborhood\n",
    "[//]: # (-.- .tabset .tabset-pills)\n",
    "    \n",
    "- In this section, use the tabs at the top to select which type of crime to display.\n"
   ]
  },
  {
   "cell_type": "code",
   "execution_count": 8,
   "id": "0f652212-7532-486c-8e72-e079f0fcb71b",
   "metadata": {},
   "outputs": [],
   "source": [
    "crime_type = 'FBI_type'\n",
    "place_type = 'Community Area'\n",
    "select_crimes = None\n",
    "select_places = community_areas.index\n",
    "select_regions = [r for r in pcp.ordered_regions if r is not None]"
   ]
  },
  {
   "cell_type": "code",
   "execution_count": 22,
   "id": "18af3c18-2494-4cf8-b1b4-96934f877d5a",
   "metadata": {},
   "outputs": [],
   "source": [
    "plot_data = pcp.melt_crime_df(\n",
    "    crime_by_year_dfs,\n",
    "    crime_type,\n",
    "    place_type,\n",
    "    select_crimes=select_crimes,\n",
    "    population=population,\n",
    "    select_places=select_places,\n",
    "    community_areas=community_areas\n",
    ")"
   ]
  },
  {
   "cell_type": "code",
   "execution_count": 27,
   "id": "aaf638d0-a8ad-4a77-be10-28621b6169fa",
   "metadata": {},
   "outputs": [],
   "source": [
    "map_df = pcp.get_map_df(tol=5e-4)"
   ]
  },
  {
   "cell_type": "code",
   "execution_count": null,
   "id": "388593a5-7fb5-4773-b505-562b5f6a33b0",
   "metadata": {},
   "outputs": [],
   "source": [
    "\n",
    "for crime_type in pcp.used_fbi_types:\n",
    "    display(Markdown(f\"### {crime_type.replace('_',' ').title()}\"))\n",
    "    \n",
    "    fig = pcp.map_crime_by_place(\n",
    "        map_df,\n",
    "        plot_data,\n",
    "        place_type,\n",
    "        crime_type\n",
    "    )\n",
    "    \n",
    "    fig.show(renderer=renderer)"
   ]
  }
 ],
 "metadata": {
  "kernelspec": {
   "display_name": "chicago_crime",
   "language": "python",
   "name": "chicago_crime"
  },
  "language_info": {
   "codemirror_mode": {
    "name": "ipython",
    "version": 3
   },
   "file_extension": ".py",
   "mimetype": "text/x-python",
   "name": "python",
   "nbconvert_exporter": "python",
   "pygments_lexer": "ipython3",
   "version": "3.10.12"
  }
 },
 "nbformat": 4,
 "nbformat_minor": 5
}
